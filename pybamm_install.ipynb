{
 "cells": [
  {
   "cell_type": "code",
   "execution_count": 1,
   "metadata": {},
   "outputs": [
    {
     "name": "stdout",
     "output_type": "stream",
     "text": [
      "Looking in indexes: https://pypi.tuna.tsinghua.edu.cn/simple\n",
      "Collecting pybamm\n",
      "  Downloading https://pypi.tuna.tsinghua.edu.cn/packages/d6/fb/f8dbe1034401667ed02bb3636792d3854c70ee9d0243b5eb7da36ae19706/pybamm-24.1-cp39-cp39-manylinux_2_17_x86_64.manylinux2014_x86_64.whl (22.6 MB)\n",
      "\u001b[2K     \u001b[90m━━━━━━━━━━━━━━━━━━━━━━━━━━━━━━━━━━━━━━━━\u001b[0m \u001b[32m22.6/22.6 MB\u001b[0m \u001b[31m7.3 MB/s\u001b[0m eta \u001b[36m0:00:00\u001b[0m00:01\u001b[0m00:01\u001b[0m\n",
      "\u001b[?25hRequirement already satisfied: numpy>=1.23.5 in /home/zhonglj/miniconda3/envs/m3gnet/lib/python3.9/site-packages (from pybamm) (1.26.4)\n",
      "Requirement already satisfied: scipy>=1.9.3 in /home/zhonglj/miniconda3/envs/m3gnet/lib/python3.9/site-packages (from pybamm) (1.12.0)\n",
      "Collecting casadi>=3.6.3 (from pybamm)\n",
      "  Downloading https://pypi.tuna.tsinghua.edu.cn/packages/a1/f8/06b68c5f7fa724c8ce5b5a7c269c7836efc10914d97dc0d37c497f5937b0/casadi-3.6.5-cp39-none-manylinux2014_x86_64.whl (72.3 MB)\n",
      "\u001b[2K     \u001b[90m━━━━━━━━━━━━━━━━━━━━━━━━━━━━━━━━━━━━━━━━\u001b[0m \u001b[32m72.3/72.3 MB\u001b[0m \u001b[31m6.8 MB/s\u001b[0m eta \u001b[36m0:00:00\u001b[0m00:01\u001b[0m00:01\u001b[0m\n",
      "\u001b[?25hCollecting xarray>=2022.6.0 (from pybamm)\n",
      "  Downloading https://pypi.tuna.tsinghua.edu.cn/packages/67/91/1f55f0e026fba8eba15afb7d097bb873bd6a9e466be45a45e7cac40a930b/xarray-2024.5.0-py3-none-any.whl (1.2 MB)\n",
      "\u001b[2K     \u001b[90m━━━━━━━━━━━━━━━━━━━━━━━━━━━━━━━━━━━━━━━━\u001b[0m \u001b[32m1.2/1.2 MB\u001b[0m \u001b[31m7.6 MB/s\u001b[0m eta \u001b[36m0:00:00\u001b[0m00:01\u001b[0m00:01\u001b[0m\n",
      "\u001b[?25hCollecting anytree>=2.8.0 (from pybamm)\n",
      "  Downloading https://pypi.tuna.tsinghua.edu.cn/packages/6a/fb/ff946843e6b55ae9fda84df3964d6c233cd2261dface789f5be02ab79bc5/anytree-2.12.1-py3-none-any.whl (44 kB)\n",
      "\u001b[2K     \u001b[90m━━━━━━━━━━━━━━━━━━━━━━━━━━━━━━━━━━━━━━━━\u001b[0m \u001b[32m44.9/44.9 kB\u001b[0m \u001b[31m10.9 MB/s\u001b[0m eta \u001b[36m0:00:00\u001b[0m\n",
      "\u001b[?25hRequirement already satisfied: six in /home/zhonglj/miniconda3/envs/m3gnet/lib/python3.9/site-packages (from anytree>=2.8.0->pybamm) (1.16.0)\n",
      "Requirement already satisfied: packaging>=23.1 in /home/zhonglj/miniconda3/envs/m3gnet/lib/python3.9/site-packages (from xarray>=2022.6.0->pybamm) (24.0)\n",
      "Requirement already satisfied: pandas>=2.0 in /home/zhonglj/miniconda3/envs/m3gnet/lib/python3.9/site-packages (from xarray>=2022.6.0->pybamm) (2.2.2)\n",
      "Requirement already satisfied: python-dateutil>=2.8.2 in /home/zhonglj/miniconda3/envs/m3gnet/lib/python3.9/site-packages (from pandas>=2.0->xarray>=2022.6.0->pybamm) (2.9.0)\n",
      "Requirement already satisfied: pytz>=2020.1 in /home/zhonglj/miniconda3/envs/m3gnet/lib/python3.9/site-packages (from pandas>=2.0->xarray>=2022.6.0->pybamm) (2023.3.post1)\n",
      "Requirement already satisfied: tzdata>=2022.7 in /home/zhonglj/miniconda3/envs/m3gnet/lib/python3.9/site-packages (from pandas>=2.0->xarray>=2022.6.0->pybamm) (2024.1)\n",
      "Installing collected packages: casadi, anytree, xarray, pybamm\n",
      "Successfully installed anytree-2.12.1 casadi-3.6.5 pybamm-24.1 xarray-2024.5.0\n",
      "Note: you may need to restart the kernel to use updated packages.\n"
     ]
    }
   ],
   "source": [
    "pip install pybamm"
   ]
  },
  {
   "cell_type": "code",
   "execution_count": null,
   "metadata": {},
   "outputs": [],
   "source": []
  }
 ],
 "metadata": {
  "kernelspec": {
   "display_name": "m3gnet",
   "language": "python",
   "name": "python3"
  },
  "language_info": {
   "codemirror_mode": {
    "name": "ipython",
    "version": 3
   },
   "file_extension": ".py",
   "mimetype": "text/x-python",
   "name": "python",
   "nbconvert_exporter": "python",
   "pygments_lexer": "ipython3",
   "version": "3.9.19"
  }
 },
 "nbformat": 4,
 "nbformat_minor": 2
}
